{
 "cells": [
  {
   "cell_type": "code",
   "execution_count": 6,
   "id": "ca467794-7eaa-4857-9094-2bea0339baab",
   "metadata": {},
   "outputs": [],
   "source": [
    "import pandas as pd\n",
    "\n",
    "# Load the dataset\n",
    "data = pd.read_csv('../data/Reviews.csv')\n",
    "\n",
    "# Data cleaning\n",
    "data.dropna(inplace=True)\n",
    "\n",
    "# Save the cleaned data\n",
    "data.to_csv('../data/cleaned-amazon-reviews.csv', index=False)\n"
   ]
  },
  {
   "cell_type": "code",
   "execution_count": null,
   "id": "e709b687-0a27-4a0b-98b0-0988391730fa",
   "metadata": {},
   "outputs": [],
   "source": []
  }
 ],
 "metadata": {
  "kernelspec": {
   "display_name": "Python 3 (ipykernel)",
   "language": "python",
   "name": "python3"
  },
  "language_info": {
   "codemirror_mode": {
    "name": "ipython",
    "version": 3
   },
   "file_extension": ".py",
   "mimetype": "text/x-python",
   "name": "python",
   "nbconvert_exporter": "python",
   "pygments_lexer": "ipython3",
   "version": "3.12.3"
  }
 },
 "nbformat": 4,
 "nbformat_minor": 5
}
