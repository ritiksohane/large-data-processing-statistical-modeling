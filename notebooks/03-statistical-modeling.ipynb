{
 "cells": [
  {
   "cell_type": "code",
   "execution_count": null,
   "metadata": {},
   "outputs": [],
   "source": [
    "import pandas as pd\n",
    "import statsmodels.api as sm\n",
    "from scipy import stats\n",
    "\n",
    "# Load cleaned data\n",
    "df = pd.read_csv('../data/cleaned_reviews.csv')\n",
    "\n",
    "# Statistical modeling\n",
    "group1_scores = df[df['ProductId'] == 'B001E4KFG0']['Score']\n",
    "group2_scores = df[df['ProductId'] == 'B00813GRG4']['Score']\n",
    "t_stat, p_value = stats.ttest_ind(group1_scores, group2_scores)\n",
    "print(\"T-statistic:\", t_stat)\n",
    "print(\"P-value:\", p_value)\n"
   ]
  }
 ],
 "metadata": {
  "language_info": {
   "name": "python"
  },
  "orig_nbformat": 4
 },
 "nbformat": 4,
 "nbformat_minor": 2
}
