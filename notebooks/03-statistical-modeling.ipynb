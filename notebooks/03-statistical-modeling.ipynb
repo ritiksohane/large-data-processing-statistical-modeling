{
 "cells": [
  {
   "cell_type": "code",
   "execution_count": 7,
   "metadata": {},
   "outputs": [
    {
     "name": "stdout",
     "output_type": "stream",
     "text": [
      "                            OLS Regression Results                            \n",
      "==============================================================================\n",
      "Dep. Variable:                  Score   R-squared:                       0.089\n",
      "Model:                            OLS   Adj. R-squared:                  0.089\n",
      "Method:                 Least Squares   F-statistic:                 2.771e+04\n",
      "Date:                Mon, 10 Jun 2024   Prob (F-statistic):               0.00\n",
      "Time:                        03:31:50   Log-Likelihood:            -9.3373e+05\n",
      "No. Observations:              568401   AIC:                         1.867e+06\n",
      "Df Residuals:                  568398   BIC:                         1.867e+06\n",
      "Df Model:                           2                                         \n",
      "Covariance Type:            nonrobust                                         \n",
      "==========================================================================================\n",
      "                             coef    std err          t      P>|t|      [0.025      0.975]\n",
      "------------------------------------------------------------------------------------------\n",
      "const                      4.2735      0.002   2461.487      0.000       4.270       4.277\n",
      "HelpfulnessNumerator       0.2168      0.001    222.397      0.000       0.215       0.219\n",
      "HelpfulnessDenominator    -0.2102      0.001   -234.019      0.000      -0.212      -0.208\n",
      "==============================================================================\n",
      "Omnibus:                   129331.324   Durbin-Watson:                   1.533\n",
      "Prob(Omnibus):                  0.000   Jarque-Bera (JB):           374036.556\n",
      "Skew:                          -1.195   Prob(JB):                         0.00\n",
      "Kurtosis:                       6.175   Cond. No.                         12.3\n",
      "==============================================================================\n",
      "\n",
      "Notes:\n",
      "[1] Standard Errors assume that the covariance matrix of the errors is correctly specified.\n"
     ]
    }
   ],
   "source": [
    "import pandas as pd\n",
    "import statsmodels.api as sm\n",
    "\n",
    "# Load the cleaned dataset\n",
    "data = pd.read_csv('../data/cleaned-amazon-reviews.csv')\n",
    "\n",
    "# Example: Linear Regression\n",
    "X = data[['HelpfulnessNumerator', 'HelpfulnessDenominator']]\n",
    "y = data['Score']\n",
    "X = sm.add_constant(X)\n",
    "model = sm.OLS(y, X).fit()\n",
    "print(model.summary())\n"
   ]
  },
  {
   "cell_type": "code",
   "execution_count": null,
   "metadata": {},
   "outputs": [],
   "source": []
  }
 ],
 "metadata": {
  "kernelspec": {
   "display_name": "Python 3 (ipykernel)",
   "language": "python",
   "name": "python3"
  },
  "language_info": {
   "codemirror_mode": {
    "name": "ipython",
    "version": 3
   },
   "file_extension": ".py",
   "mimetype": "text/x-python",
   "name": "python",
   "nbconvert_exporter": "python",
   "pygments_lexer": "ipython3",
   "version": "3.12.3"
  }
 },
 "nbformat": 4,
 "nbformat_minor": 4
}
